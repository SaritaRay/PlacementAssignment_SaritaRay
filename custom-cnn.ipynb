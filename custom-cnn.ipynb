{
 "cells": [
  {
   "cell_type": "markdown",
   "metadata": {},
   "source": [
    "**Question 1 -**\n",
    "Implement 3 different CNN architectures with a comparison table for the MNSIT\n",
    "dataset using the Tensorflow library.\n",
    "\n",
    "**Note -**\n",
    "\n",
    "1. The model parameters for each architecture should not be more than 8000 parameters\n",
    "2. Code comments should be given for proper code understanding.\n",
    "3. The minimum accuracy for each accuracy should be at least 96%"
   ]
  },
  {
   "cell_type": "markdown",
   "metadata": {},
   "source": [
    "### 1. LeNet "
   ]
  },
  {
   "cell_type": "code",
   "execution_count": 1,
   "metadata": {},
   "outputs": [],
   "source": [
    "#import libraries\n",
    "import numpy as np\n",
    "import tensorflow as tf\n",
    "import keras\n",
    "from keras.datasets import mnist\n",
    "from keras.layers import Conv2D, MaxPooling2D\n",
    "from keras.layers import Add, Dense, Flatten, Dropout\n",
    "from keras.models import Sequential\n",
    "from tensorflow.keras import layers\n",
    "from tensorflow.keras.layers import BatchNormalization, Activation"
   ]
  },
  {
   "cell_type": "code",
   "execution_count": 2,
   "metadata": {},
   "outputs": [],
   "source": [
    "# Loading the dataset and perform splitting\n",
    "(X_train, y_train), (X_test, y_test) = mnist.load_data()"
   ]
  },
  {
   "cell_type": "code",
   "execution_count": 3,
   "metadata": {},
   "outputs": [],
   "source": [
    "# Peforming reshaping operation\n",
    "X_train = X_train.reshape(X_train.shape[0], 28, 28, 1)\n",
    "X_test = X_test.reshape(X_test.shape[0], 28, 28, 1)"
   ]
  },
  {
   "cell_type": "code",
   "execution_count": 4,
   "metadata": {},
   "outputs": [],
   "source": [
    "# Normalization\n",
    "X_train = X_train / 255\n",
    "X_test = X_test / 255"
   ]
  },
  {
   "cell_type": "code",
   "execution_count": 5,
   "metadata": {},
   "outputs": [],
   "source": [
    "# One Hot Encoding\n",
    "y_train = keras.utils.to_categorical(y_train, 10)\n",
    "y_test = keras.utils.to_categorical(y_test, 10)"
   ]
  },
  {
   "cell_type": "code",
   "execution_count": 6,
   "metadata": {},
   "outputs": [],
   "source": [
    "# Define the model\n",
    "model = Sequential()\n",
    "\n",
    "model.add(Conv2D(6,kernel_size=(5,5),padding='valid',activation='relu',input_shape=(28,28,1)))\n",
    "model.add(MaxPooling2D(pool_size=(2,2)))\n",
    "\n",
    "model.add(Conv2D(16,kernel_size=(5,5)))\n",
    "model.add(MaxPooling2D(pool_size=(2,2)))\n",
    "\n",
    "model.add(Flatten())\n",
    "model.add(Dense(10,activation='softmax'))"
   ]
  },
  {
   "cell_type": "code",
   "execution_count": 7,
   "metadata": {},
   "outputs": [
    {
     "name": "stdout",
     "output_type": "stream",
     "text": [
      "Model: \"sequential\"\n",
      "_________________________________________________________________\n",
      " Layer (type)                Output Shape              Param #   \n",
      "=================================================================\n",
      " conv2d (Conv2D)             (None, 24, 24, 6)         156       \n",
      "                                                                 \n",
      " max_pooling2d (MaxPooling2D  (None, 12, 12, 6)        0         \n",
      " )                                                               \n",
      "                                                                 \n",
      " conv2d_1 (Conv2D)           (None, 8, 8, 16)          2416      \n",
      "                                                                 \n",
      " max_pooling2d_1 (MaxPooling  (None, 4, 4, 16)         0         \n",
      " 2D)                                                             \n",
      "                                                                 \n",
      " flatten (Flatten)           (None, 256)               0         \n",
      "                                                                 \n",
      " dense (Dense)               (None, 10)                2570      \n",
      "                                                                 \n",
      "=================================================================\n",
      "Total params: 5,142\n",
      "Trainable params: 5,142\n",
      "Non-trainable params: 0\n",
      "_________________________________________________________________\n"
     ]
    }
   ],
   "source": [
    "# Print the model summary\n",
    "model.summary()"
   ]
  },
  {
   "cell_type": "code",
   "execution_count": 8,
   "metadata": {},
   "outputs": [],
   "source": [
    "# Compile the model\n",
    "model.compile(loss =keras.metrics.categorical_crossentropy,optimizer=keras.optimizers.Adam(),metrics=['accuracy'])"
   ]
  },
  {
   "cell_type": "code",
   "execution_count": 9,
   "metadata": {},
   "outputs": [
    {
     "name": "stdout",
     "output_type": "stream",
     "text": [
      "Epoch 1/10\n",
      "469/469 [==============================] - 5s 10ms/step - loss: 0.4379 - accuracy: 0.8799 - val_loss: 0.1441 - val_accuracy: 0.9599\n",
      "Epoch 2/10\n",
      "469/469 [==============================] - 5s 10ms/step - loss: 0.1270 - accuracy: 0.9629 - val_loss: 0.0915 - val_accuracy: 0.9714\n",
      "Epoch 3/10\n",
      "469/469 [==============================] - 5s 10ms/step - loss: 0.0952 - accuracy: 0.9723 - val_loss: 0.0742 - val_accuracy: 0.9750\n",
      "Epoch 4/10\n",
      "469/469 [==============================] - 5s 10ms/step - loss: 0.0802 - accuracy: 0.9760 - val_loss: 0.0626 - val_accuracy: 0.9802\n",
      "Epoch 5/10\n",
      "469/469 [==============================] - 5s 10ms/step - loss: 0.0704 - accuracy: 0.9790 - val_loss: 0.0581 - val_accuracy: 0.9808\n",
      "Epoch 6/10\n",
      "469/469 [==============================] - 5s 10ms/step - loss: 0.0630 - accuracy: 0.9816 - val_loss: 0.0627 - val_accuracy: 0.9789\n",
      "Epoch 7/10\n",
      "469/469 [==============================] - 5s 10ms/step - loss: 0.0595 - accuracy: 0.9817 - val_loss: 0.0525 - val_accuracy: 0.9840\n",
      "Epoch 8/10\n",
      "469/469 [==============================] - 5s 10ms/step - loss: 0.0548 - accuracy: 0.9837 - val_loss: 0.0495 - val_accuracy: 0.9851\n",
      "Epoch 9/10\n",
      "469/469 [==============================] - 5s 10ms/step - loss: 0.0501 - accuracy: 0.9846 - val_loss: 0.0513 - val_accuracy: 0.9840\n",
      "Epoch 10/10\n",
      "469/469 [==============================] - 5s 10ms/step - loss: 0.0475 - accuracy: 0.9856 - val_loss: 0.0463 - val_accuracy: 0.9852\n"
     ]
    }
   ],
   "source": [
    "# Train the model\n",
    "history = model.fit(X_train,y_train,batch_size=128, epochs=10, validation_data=(X_test,y_test))"
   ]
  },
  {
   "cell_type": "code",
   "execution_count": 10,
   "metadata": {},
   "outputs": [
    {
     "name": "stdout",
     "output_type": "stream",
     "text": [
      "313/313 [==============================] - 1s 2ms/step - loss: 0.0463 - accuracy: 0.9852\n",
      "Test accuracy: 0.9851999878883362\n"
     ]
    }
   ],
   "source": [
    "# Evaluate the model\n",
    "test_loss, test_acc1 = model.evaluate(X_test, y_test)\n",
    "print('Test accuracy:', test_acc1)"
   ]
  },
  {
   "cell_type": "code",
   "execution_count": 11,
   "metadata": {},
   "outputs": [
    {
     "name": "stdout",
     "output_type": "stream",
     "text": [
      "313/313 [==============================] - 1s 2ms/step\n"
     ]
    }
   ],
   "source": [
    "pred = model.predict(X_test)"
   ]
  },
  {
   "cell_type": "code",
   "execution_count": 12,
   "metadata": {},
   "outputs": [
    {
     "data": {
      "text/plain": [
       "4"
      ]
     },
     "execution_count": 12,
     "metadata": {},
     "output_type": "execute_result"
    }
   ],
   "source": [
    "pred_img = np.argmax(pred[6])\n",
    "pred_img"
   ]
  },
  {
   "cell_type": "markdown",
   "metadata": {},
   "source": [
    "### 2. Custom Model 1"
   ]
  },
  {
   "cell_type": "code",
   "execution_count": 13,
   "metadata": {},
   "outputs": [
    {
     "name": "stdout",
     "output_type": "stream",
     "text": [
      "Model: \"sequential_1\"\n",
      "_________________________________________________________________\n",
      " Layer (type)                Output Shape              Param #   \n",
      "=================================================================\n",
      " conv2d_2 (Conv2D)           (None, 26, 26, 8)         80        \n",
      "                                                                 \n",
      " batch_normalization (BatchN  (None, 26, 26, 8)        32        \n",
      " ormalization)                                                   \n",
      "                                                                 \n",
      " dropout (Dropout)           (None, 26, 26, 8)         0         \n",
      "                                                                 \n",
      " conv2d_3 (Conv2D)           (None, 24, 24, 16)        1168      \n",
      "                                                                 \n",
      " batch_normalization_1 (Batc  (None, 24, 24, 16)       64        \n",
      " hNormalization)                                                 \n",
      "                                                                 \n",
      " dropout_1 (Dropout)         (None, 24, 24, 16)        0         \n",
      "                                                                 \n",
      " conv2d_4 (Conv2D)           (None, 24, 24, 8)         136       \n",
      "                                                                 \n",
      " max_pooling2d_2 (MaxPooling  (None, 12, 12, 8)        0         \n",
      " 2D)                                                             \n",
      "                                                                 \n",
      " conv2d_5 (Conv2D)           (None, 10, 10, 10)        730       \n",
      "                                                                 \n",
      " batch_normalization_2 (Batc  (None, 10, 10, 10)       40        \n",
      " hNormalization)                                                 \n",
      "                                                                 \n",
      " dropout_2 (Dropout)         (None, 10, 10, 10)        0         \n",
      "                                                                 \n",
      " conv2d_6 (Conv2D)           (None, 8, 8, 10)          910       \n",
      "                                                                 \n",
      " batch_normalization_3 (Batc  (None, 8, 8, 10)         40        \n",
      " hNormalization)                                                 \n",
      "                                                                 \n",
      " dropout_3 (Dropout)         (None, 8, 8, 10)          0         \n",
      "                                                                 \n",
      " conv2d_7 (Conv2D)           (None, 6, 6, 10)          910       \n",
      "                                                                 \n",
      " batch_normalization_4 (Batc  (None, 6, 6, 10)         40        \n",
      " hNormalization)                                                 \n",
      "                                                                 \n",
      " dropout_4 (Dropout)         (None, 6, 6, 10)          0         \n",
      "                                                                 \n",
      " conv2d_8 (Conv2D)           (None, 4, 4, 10)          910       \n",
      "                                                                 \n",
      " batch_normalization_5 (Batc  (None, 4, 4, 10)         40        \n",
      " hNormalization)                                                 \n",
      "                                                                 \n",
      " dropout_5 (Dropout)         (None, 4, 4, 10)          0         \n",
      "                                                                 \n",
      " conv2d_9 (Conv2D)           (None, 1, 1, 10)          1610      \n",
      "                                                                 \n",
      " flatten_1 (Flatten)         (None, 10)                0         \n",
      "                                                                 \n",
      " activation (Activation)     (None, 10)                0         \n",
      "                                                                 \n",
      "=================================================================\n",
      "Total params: 6,710\n",
      "Trainable params: 6,582\n",
      "Non-trainable params: 128\n",
      "_________________________________________________________________\n"
     ]
    }
   ],
   "source": [
    "model = Sequential()\n",
    "\n",
    "model.add(Conv2D(8, (3, 3), activation='relu', input_shape=(28, 28, 1)))  # Channel dimension = 26*26*8, receptive field 3*3\n",
    "model.add(BatchNormalization())\n",
    "model.add(Dropout(0.1))\n",
    "\n",
    "model.add(Conv2D(16, (3, 3), activation='relu'))  # Channel dimension = 24*24*16, receptive field 5*5\n",
    "model.add(BatchNormalization())\n",
    "model.add(Dropout(0.1))\n",
    "\n",
    "model.add(Conv2D(8, (1, 1), activation='relu'))  # Channel dimension = 24*24*8, receptive field 5*5\n",
    "model.add(MaxPooling2D(pool_size=(2, 2)))  # Channel dimension = 12*12*8, receptive field 10*10\n",
    "\n",
    "model.add(Conv2D(10, (3, 3), activation='relu'))  # Channel dimension = 10*10*10, receptive field 12*12\n",
    "model.add(BatchNormalization())\n",
    "model.add(Dropout(0.1))\n",
    "\n",
    "model.add(Conv2D(10, (3, 3), activation='relu'))  # Channel dimension = 8*8*10, receptive field 14*14\n",
    "model.add(BatchNormalization())\n",
    "model.add(Dropout(0.1))\n",
    "\n",
    "model.add(Conv2D(10, (3, 3), activation='relu'))  # Channel dimension = 6*6*10, receptive field 16*16\n",
    "model.add(BatchNormalization())\n",
    "model.add(Dropout(0.1))\n",
    "\n",
    "model.add(Conv2D(10, (3, 3), activation='relu'))  # Channel dimension = 4*4*10, receptive field 18*18\n",
    "model.add(BatchNormalization())\n",
    "model.add(Dropout(0.1))\n",
    "\n",
    "model.add(Conv2D(10, (4, 4)))  # Channel dimension 1*1*10\n",
    "\n",
    "model.add(Flatten())\n",
    "\n",
    "model.add(Activation('softmax'))\n",
    "\n",
    "model.summary()\n"
   ]
  },
  {
   "cell_type": "code",
   "execution_count": 14,
   "metadata": {},
   "outputs": [],
   "source": [
    "# Compile the model\n",
    "model.compile(loss =keras.metrics.categorical_crossentropy,optimizer=keras.optimizers.Adam(),metrics=['accuracy'])"
   ]
  },
  {
   "cell_type": "code",
   "execution_count": 15,
   "metadata": {},
   "outputs": [
    {
     "name": "stdout",
     "output_type": "stream",
     "text": [
      "Epoch 1/10\n",
      "469/469 [==============================] - 23s 47ms/step - loss: 0.5169 - accuracy: 0.8383 - val_loss: 0.2188 - val_accuracy: 0.9334\n",
      "Epoch 2/10\n",
      "469/469 [==============================] - 28s 60ms/step - loss: 0.1353 - accuracy: 0.9588 - val_loss: 0.0657 - val_accuracy: 0.9791\n",
      "Epoch 3/10\n",
      "469/469 [==============================] - 28s 59ms/step - loss: 0.0953 - accuracy: 0.9709 - val_loss: 0.0536 - val_accuracy: 0.9837\n",
      "Epoch 4/10\n",
      "469/469 [==============================] - 28s 59ms/step - loss: 0.0823 - accuracy: 0.9752 - val_loss: 0.0495 - val_accuracy: 0.9832\n",
      "Epoch 5/10\n",
      "469/469 [==============================] - 28s 59ms/step - loss: 0.0715 - accuracy: 0.9780 - val_loss: 0.0418 - val_accuracy: 0.9852\n",
      "Epoch 6/10\n",
      "469/469 [==============================] - 28s 60ms/step - loss: 0.0625 - accuracy: 0.9802 - val_loss: 0.0357 - val_accuracy: 0.9889\n",
      "Epoch 7/10\n",
      "469/469 [==============================] - 28s 61ms/step - loss: 0.0592 - accuracy: 0.9810 - val_loss: 0.0391 - val_accuracy: 0.9864\n",
      "Epoch 8/10\n",
      "469/469 [==============================] - 28s 60ms/step - loss: 0.0560 - accuracy: 0.9825 - val_loss: 0.0429 - val_accuracy: 0.9844\n",
      "Epoch 9/10\n",
      "469/469 [==============================] - 29s 61ms/step - loss: 0.0513 - accuracy: 0.9840 - val_loss: 0.0306 - val_accuracy: 0.9903\n",
      "Epoch 10/10\n",
      "469/469 [==============================] - 29s 62ms/step - loss: 0.0483 - accuracy: 0.9848 - val_loss: 0.0309 - val_accuracy: 0.9901\n"
     ]
    }
   ],
   "source": [
    "# Train the model\n",
    "history = model.fit(X_train,y_train,batch_size=128, epochs=10, validation_data=(X_test,y_test))"
   ]
  },
  {
   "cell_type": "code",
   "execution_count": 16,
   "metadata": {},
   "outputs": [
    {
     "name": "stdout",
     "output_type": "stream",
     "text": [
      "313/313 [==============================] - 2s 5ms/step - loss: 0.0309 - accuracy: 0.9901\n",
      "Test accuracy: 0.9901000261306763\n"
     ]
    }
   ],
   "source": [
    "# Evaluate the model\n",
    "test_loss, test_acc2 = model.evaluate(X_test, y_test)\n",
    "print('Test accuracy:', test_acc2)"
   ]
  },
  {
   "cell_type": "code",
   "execution_count": 17,
   "metadata": {},
   "outputs": [
    {
     "name": "stdout",
     "output_type": "stream",
     "text": [
      "313/313 [==============================] - 2s 5ms/step\n"
     ]
    }
   ],
   "source": [
    "pred = model.predict(X_test)"
   ]
  },
  {
   "cell_type": "code",
   "execution_count": 18,
   "metadata": {},
   "outputs": [
    {
     "data": {
      "text/plain": [
       "4"
      ]
     },
     "execution_count": 18,
     "metadata": {},
     "output_type": "execute_result"
    }
   ],
   "source": [
    "pred_img = np.argmax(pred[6])\n",
    "pred_img"
   ]
  },
  {
   "cell_type": "markdown",
   "metadata": {},
   "source": [
    "### 3. Custom Model 2"
   ]
  },
  {
   "cell_type": "code",
   "execution_count": 19,
   "metadata": {},
   "outputs": [
    {
     "name": "stdout",
     "output_type": "stream",
     "text": [
      "Model: \"sequential_2\"\n",
      "_________________________________________________________________\n",
      " Layer (type)                Output Shape              Param #   \n",
      "=================================================================\n",
      " conv2d_10 (Conv2D)          (None, 26, 26, 8)         80        \n",
      "                                                                 \n",
      " batch_normalization_6 (Batc  (None, 26, 26, 8)        32        \n",
      " hNormalization)                                                 \n",
      "                                                                 \n",
      " dropout_6 (Dropout)         (None, 26, 26, 8)         0         \n",
      "                                                                 \n",
      " conv2d_11 (Conv2D)          (None, 24, 24, 16)        1168      \n",
      "                                                                 \n",
      " batch_normalization_7 (Batc  (None, 24, 24, 16)       64        \n",
      " hNormalization)                                                 \n",
      "                                                                 \n",
      " dropout_7 (Dropout)         (None, 24, 24, 16)        0         \n",
      "                                                                 \n",
      " conv2d_12 (Conv2D)          (None, 24, 24, 8)         136       \n",
      "                                                                 \n",
      " max_pooling2d_3 (MaxPooling  (None, 12, 12, 8)        0         \n",
      " 2D)                                                             \n",
      "                                                                 \n",
      " conv2d_13 (Conv2D)          (None, 10, 10, 8)         584       \n",
      "                                                                 \n",
      " batch_normalization_8 (Batc  (None, 10, 10, 8)        32        \n",
      " hNormalization)                                                 \n",
      "                                                                 \n",
      " dropout_8 (Dropout)         (None, 10, 10, 8)         0         \n",
      "                                                                 \n",
      " conv2d_14 (Conv2D)          (None, 8, 8, 8)           584       \n",
      "                                                                 \n",
      " batch_normalization_9 (Batc  (None, 8, 8, 8)          32        \n",
      " hNormalization)                                                 \n",
      "                                                                 \n",
      " dropout_9 (Dropout)         (None, 8, 8, 8)           0         \n",
      "                                                                 \n",
      " conv2d_15 (Conv2D)          (None, 6, 6, 10)          730       \n",
      "                                                                 \n",
      " batch_normalization_10 (Bat  (None, 6, 6, 10)         40        \n",
      " chNormalization)                                                \n",
      "                                                                 \n",
      " dropout_10 (Dropout)        (None, 6, 6, 10)          0         \n",
      "                                                                 \n",
      " conv2d_16 (Conv2D)          (None, 4, 4, 10)          910       \n",
      "                                                                 \n",
      " batch_normalization_11 (Bat  (None, 4, 4, 10)         40        \n",
      " chNormalization)                                                \n",
      "                                                                 \n",
      " dropout_11 (Dropout)        (None, 4, 4, 10)          0         \n",
      "                                                                 \n",
      " conv2d_17 (Conv2D)          (None, 1, 1, 10)          1610      \n",
      "                                                                 \n",
      " flatten_2 (Flatten)         (None, 10)                0         \n",
      "                                                                 \n",
      " activation_1 (Activation)   (None, 10)                0         \n",
      "                                                                 \n",
      "=================================================================\n",
      "Total params: 6,042\n",
      "Trainable params: 5,922\n",
      "Non-trainable params: 120\n",
      "_________________________________________________________________\n"
     ]
    }
   ],
   "source": [
    "model = Sequential()\n",
    "\n",
    "model.add(Conv2D(8, (3, 3), activation='relu', input_shape=(28, 28, 1)))  # Channel dimension = 26*26*8, receptive field 3*3\n",
    "model.add(BatchNormalization())\n",
    "model.add(Dropout(0.1))\n",
    "\n",
    "model.add(Conv2D(16, (3, 3), activation='relu'))  # Channel dimension = 24*24*16, receptive field 5*5\n",
    "model.add(BatchNormalization())\n",
    "model.add(Dropout(0.1))\n",
    "\n",
    "model.add(Conv2D(8, (1, 1), activation='relu'))  # Channel dimension = 24*24*8, receptive field 5*5\n",
    "model.add(MaxPooling2D(pool_size=(2, 2)))  # Channel dimension = 12*12*8, receptive field 10*10\n",
    "\n",
    "model.add(Conv2D(8, (3, 3), activation='relu'))  # Channel dimension = 10*10*8, receptive field 12*12\n",
    "model.add(BatchNormalization())\n",
    "model.add(Dropout(0.1))\n",
    "\n",
    "model.add(Conv2D(8, (3, 3), activation='relu'))  # Channel dimension = 8*8*8, receptive field 14*14\n",
    "model.add(BatchNormalization())\n",
    "model.add(Dropout(0.1))\n",
    "\n",
    "model.add(Conv2D(10, (3, 3), activation='relu'))  # Channel dimension = 6*6*10, receptive field 16*16\n",
    "model.add(BatchNormalization())\n",
    "model.add(Dropout(0.1))\n",
    "\n",
    "model.add(Conv2D(10, (3, 3), activation='relu'))  # Channel dimension = 4*4*10, receptive field 18*18\n",
    "model.add(BatchNormalization())\n",
    "model.add(Dropout(0.1))\n",
    "\n",
    "model.add(Conv2D(10, (4, 4)))  # Channel dimension 1*1*10\n",
    "\n",
    "model.add(Flatten())\n",
    "\n",
    "model.add(Activation('softmax'))\n",
    "\n",
    "model.summary()\n"
   ]
  },
  {
   "cell_type": "code",
   "execution_count": 20,
   "metadata": {},
   "outputs": [],
   "source": [
    "# Compile the model\n",
    "model.compile(loss =keras.metrics.categorical_crossentropy,optimizer=keras.optimizers.Adam(),metrics=['accuracy'])"
   ]
  },
  {
   "cell_type": "code",
   "execution_count": 21,
   "metadata": {},
   "outputs": [
    {
     "name": "stdout",
     "output_type": "stream",
     "text": [
      "Epoch 1/10\n",
      "469/469 [==============================] - 29s 60ms/step - loss: 0.5326 - accuracy: 0.8319 - val_loss: 0.1989 - val_accuracy: 0.9391\n",
      "Epoch 2/10\n",
      "469/469 [==============================] - 29s 61ms/step - loss: 0.1369 - accuracy: 0.9581 - val_loss: 0.0675 - val_accuracy: 0.9788\n",
      "Epoch 3/10\n",
      "469/469 [==============================] - 28s 59ms/step - loss: 0.1015 - accuracy: 0.9686 - val_loss: 0.0541 - val_accuracy: 0.9815\n",
      "Epoch 4/10\n",
      "469/469 [==============================] - 28s 61ms/step - loss: 0.0851 - accuracy: 0.9738 - val_loss: 0.0525 - val_accuracy: 0.9821\n",
      "Epoch 5/10\n",
      "469/469 [==============================] - 28s 60ms/step - loss: 0.0766 - accuracy: 0.9762 - val_loss: 0.0437 - val_accuracy: 0.9857\n",
      "Epoch 6/10\n",
      "469/469 [==============================] - 27s 58ms/step - loss: 0.0691 - accuracy: 0.9783 - val_loss: 0.0443 - val_accuracy: 0.9858\n",
      "Epoch 7/10\n",
      "469/469 [==============================] - 28s 60ms/step - loss: 0.0645 - accuracy: 0.9798 - val_loss: 0.0487 - val_accuracy: 0.9855\n",
      "Epoch 8/10\n",
      "469/469 [==============================] - 28s 59ms/step - loss: 0.0603 - accuracy: 0.9812 - val_loss: 0.0413 - val_accuracy: 0.9868\n",
      "Epoch 9/10\n",
      "469/469 [==============================] - 27s 59ms/step - loss: 0.0575 - accuracy: 0.9822 - val_loss: 0.0354 - val_accuracy: 0.9885\n",
      "Epoch 10/10\n",
      "469/469 [==============================] - 28s 60ms/step - loss: 0.0566 - accuracy: 0.9823 - val_loss: 0.0347 - val_accuracy: 0.9887\n"
     ]
    }
   ],
   "source": [
    "# Train the model\n",
    "history = model.fit(X_train,y_train,batch_size=128, epochs=10, validation_data=(X_test,y_test))"
   ]
  },
  {
   "cell_type": "code",
   "execution_count": 22,
   "metadata": {},
   "outputs": [
    {
     "name": "stdout",
     "output_type": "stream",
     "text": [
      "313/313 [==============================] - 2s 5ms/step - loss: 0.0347 - accuracy: 0.9887\n",
      "Test accuracy: 0.9886999726295471\n"
     ]
    }
   ],
   "source": [
    "# Evaluate the model\n",
    "test_loss, test_acc3 = model.evaluate(X_test, y_test)\n",
    "print('Test accuracy:', test_acc3)"
   ]
  },
  {
   "cell_type": "code",
   "execution_count": 23,
   "metadata": {},
   "outputs": [
    {
     "name": "stdout",
     "output_type": "stream",
     "text": [
      "313/313 [==============================] - 2s 5ms/step\n"
     ]
    }
   ],
   "source": [
    "pred = model.predict(X_test)"
   ]
  },
  {
   "cell_type": "code",
   "execution_count": 24,
   "metadata": {},
   "outputs": [
    {
     "data": {
      "text/plain": [
       "4"
      ]
     },
     "execution_count": 24,
     "metadata": {},
     "output_type": "execute_result"
    }
   ],
   "source": [
    "pred_img = np.argmax(pred[6])\n",
    "pred_img"
   ]
  },
  {
   "cell_type": "code",
   "execution_count": 26,
   "metadata": {},
   "outputs": [
    {
     "data": {
      "text/html": [
       "<div>\n",
       "<style scoped>\n",
       "    .dataframe tbody tr th:only-of-type {\n",
       "        vertical-align: middle;\n",
       "    }\n",
       "\n",
       "    .dataframe tbody tr th {\n",
       "        vertical-align: top;\n",
       "    }\n",
       "\n",
       "    .dataframe thead th {\n",
       "        text-align: right;\n",
       "    }\n",
       "</style>\n",
       "<table border=\"1\" class=\"dataframe\">\n",
       "  <thead>\n",
       "    <tr style=\"text-align: right;\">\n",
       "      <th></th>\n",
       "      <th>Architecture</th>\n",
       "      <th>Trainable Parameters</th>\n",
       "      <th>Test Accuracy</th>\n",
       "    </tr>\n",
       "  </thead>\n",
       "  <tbody>\n",
       "    <tr>\n",
       "      <th>0</th>\n",
       "      <td>LeNet</td>\n",
       "      <td>5142</td>\n",
       "      <td>0.9852</td>\n",
       "    </tr>\n",
       "    <tr>\n",
       "      <th>1</th>\n",
       "      <td>Custom Model1</td>\n",
       "      <td>6582</td>\n",
       "      <td>0.9901</td>\n",
       "    </tr>\n",
       "    <tr>\n",
       "      <th>2</th>\n",
       "      <td>Custom Model2</td>\n",
       "      <td>5922</td>\n",
       "      <td>0.9887</td>\n",
       "    </tr>\n",
       "  </tbody>\n",
       "</table>\n",
       "</div>"
      ],
      "text/plain": [
       "    Architecture  Trainable Parameters  Test Accuracy\n",
       "0          LeNet                  5142         0.9852\n",
       "1  Custom Model1                  6582         0.9901\n",
       "2  Custom Model2                  5922         0.9887"
      ]
     },
     "execution_count": 26,
     "metadata": {},
     "output_type": "execute_result"
    }
   ],
   "source": [
    "import pandas as pd\n",
    "\n",
    "# Create a DataFrame\n",
    "data = {\n",
    "    'Architecture': ['LeNet', 'Custom Model1','Custom Model2'],\n",
    "    'Trainable Parameters': [5142, 6582, 5922],\n",
    "    'Test Accuracy': [test_acc1,test_acc2,test_acc3]\n",
    "}\n",
    "\n",
    "df = pd.DataFrame(data)\n",
    "\n",
    "# Display the DataFrame\n",
    "df\n"
   ]
  },
  {
   "cell_type": "code",
   "execution_count": null,
   "metadata": {},
   "outputs": [],
   "source": []
  }
 ],
 "metadata": {
  "kernelspec": {
   "display_name": "Python 3 (ipykernel)",
   "language": "python",
   "name": "python3"
  },
  "language_info": {
   "codemirror_mode": {
    "name": "ipython",
    "version": 3
   },
   "file_extension": ".py",
   "mimetype": "text/x-python",
   "name": "python",
   "nbconvert_exporter": "python",
   "pygments_lexer": "ipython3",
   "version": "3.10.9"
  }
 },
 "nbformat": 4,
 "nbformat_minor": 2
}
