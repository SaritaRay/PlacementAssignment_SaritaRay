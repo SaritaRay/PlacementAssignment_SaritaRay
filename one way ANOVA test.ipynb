{
 "cells": [
  {
   "cell_type": "code",
   "execution_count": 1,
   "id": "fb4ecb4f",
   "metadata": {},
   "outputs": [
    {
     "name": "stdout",
     "output_type": "stream",
     "text": [
      "The mean scores of all the students are equal.\n"
     ]
    }
   ],
   "source": [
    "#To test the hypothesis that the mean scores of all the students are the same, we can use a one-way ANOVA (Analysis of Variance) test .\n",
    "#Here is how we can perform a one-way ANOVA test in Python:\n",
    "    \n",
    "import scipy.stats as stats\n",
    "\n",
    "# Define the data\n",
    "exam1 = [85, 70, 90, 75, 95]\n",
    "exam2 = [90, 80, 85, 70, 92]\n",
    "exam3 = [92, 85, 88, 75, 96]\n",
    "\n",
    "# Perform one-way ANOVA test\n",
    "f_value, p_value = stats.f_oneway(exam1, exam2, exam3)\n",
    "\n",
    "# Print the results\n",
    "if p_value < 0.05:\n",
    "    print(\"The mean scores of all the students are not equal.\")\n",
    "else:\n",
    "    print(\"The mean scores of all the students are equal.\")\n",
    "\n",
    "#in this approach we can see the null hypothesis is that the mean scores of all the students are equal. If the p-value is less than the significance level (usually 0.05), then we can reject the null hypothesis and conclude that there is a significant difference between the mean scores of all the students."
   ]
  },
  {
   "cell_type": "code",
   "execution_count": 2,
   "id": "1bb215db",
   "metadata": {},
   "outputs": [
    {
     "name": "stdout",
     "output_type": "stream",
     "text": [
      "The student with the highest score is jeevan\n"
     ]
    }
   ],
   "source": [
    "#To find out which student has the highest score, we can calculate the sample mean and standard deviation for each student and then compare them . The student with the highest score will have a score that is greater than or equal to the sample mean plus two standard deviations.\n",
    "#Here is how we can find it:\n",
    "\n",
    "import numpy as np\n",
    "\n",
    "# Define the data\n",
    "students = ['karan', 'deepa', 'karthik', 'chandan', 'jeevan']\n",
    "exam1 = [85, 70, 90, 75, 95]\n",
    "exam2 = [90, 80, 85, 70, 92]\n",
    "exam3 = [92, 85, 88, 75, 96]\n",
    "\n",
    "# Calculate the mean and standard deviation for each student\n",
    "means = np.mean([exam1, exam2, exam3], axis=0)\n",
    "stds = np.std([exam1, exam2, exam3], axis=0)\n",
    "\n",
    "# Find the highest scoring student\n",
    "highest_score = np.max(means + 2 * stds)\n",
    "highest_student = students[np.argmax(means + 2 * stds)]\n",
    "\n",
    "print(\"The student with the highest score is\", highest_student)\n"
   ]
  }
 ],
 "metadata": {
  "kernelspec": {
   "display_name": "Python 3 (ipykernel)",
   "language": "python",
   "name": "python3"
  },
  "language_info": {
   "codemirror_mode": {
    "name": "ipython",
    "version": 3
   },
   "file_extension": ".py",
   "mimetype": "text/x-python",
   "name": "python",
   "nbconvert_exporter": "python",
   "pygments_lexer": "ipython3",
   "version": "3.9.13"
  }
 },
 "nbformat": 4,
 "nbformat_minor": 5
}
