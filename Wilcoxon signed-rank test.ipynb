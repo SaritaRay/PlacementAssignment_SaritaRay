{
 "cells": [
  {
   "cell_type": "code",
   "execution_count": 1,
   "id": "6fc52c6d",
   "metadata": {},
   "outputs": [
    {
     "name": "stdout",
     "output_type": "stream",
     "text": [
      "The therapy had a significant effect on anxiety levels.\n"
     ]
    }
   ],
   "source": [
    "#To test whether the therapy had a significant effect on anxiety levels, we can use the Wilcoxon signed-rank test. This test is used when the data is not normally distributed and we want to compare two related samples.\n",
    "\n",
    "#Here is how we can perform a Wilcoxon signed-rank test in Python:\n",
    "\n",
    "import scipy.stats as stats\n",
    "\n",
    "# Define the data\n",
    "before_therapy = [10, 8, 12, 15, 6, 9, 11, 7, 14, 10]\n",
    "after_therapy = [7, 6, 10, 12, 5, 8, 9, 6, 12, 8]\n",
    "difference = [-3,-2,-2,-3,-1,-1,-2,-1,-2,-2]\n",
    "\n",
    "# Perform Wilcoxon signed-rank test\n",
    "statistic, p_value = stats.wilcoxon(difference)\n",
    "\n",
    "# Print the results\n",
    "if p_value < 0.05:\n",
    "    print(\"The therapy had a significant effect on anxiety levels.\")\n",
    "else:\n",
    "    print(\"The therapy did not have a significant effect on anxiety levels.\")\n",
    "    \n",
    "\n",
    "#The null hypothesis is that there is no difference between the before and after therapy scores. If the p-value is less than the significance level (usually 0.05), then you can reject the null hypothesis and conclude that there is a significant difference between the before and after therapy scores."
   ]
  }
 ],
 "metadata": {
  "kernelspec": {
   "display_name": "Python 3 (ipykernel)",
   "language": "python",
   "name": "python3"
  },
  "language_info": {
   "codemirror_mode": {
    "name": "ipython",
    "version": 3
   },
   "file_extension": ".py",
   "mimetype": "text/x-python",
   "name": "python",
   "nbconvert_exporter": "python",
   "pygments_lexer": "ipython3",
   "version": "3.9.13"
  }
 },
 "nbformat": 4,
 "nbformat_minor": 5
}
